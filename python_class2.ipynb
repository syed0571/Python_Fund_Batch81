{
 "cells": [
  {
   "cell_type": "code",
   "execution_count": null,
   "id": "2f320906",
   "metadata": {},
   "outputs": [],
   "source": [
    "understanding of variables in python"
   ]
  },
  {
   "cell_type": "code",
   "execution_count": null,
   "id": "ce194bdd",
   "metadata": {},
   "outputs": [],
   "source": []
  },
  {
   "cell_type": "code",
   "execution_count": 1,
   "id": "fe3dc662",
   "metadata": {},
   "outputs": [],
   "source": [
    "x = 3\n",
    "y = 2"
   ]
  },
  {
   "cell_type": "code",
   "execution_count": 2,
   "id": "53ad4177",
   "metadata": {},
   "outputs": [
    {
     "name": "stdout",
     "output_type": "stream",
     "text": [
      "5\n"
     ]
    }
   ],
   "source": [
    "z = x+y\n",
    "\n",
    "print(z)"
   ]
  },
  {
   "cell_type": "code",
   "execution_count": null,
   "id": "c22cab04",
   "metadata": {},
   "outputs": [],
   "source": []
  },
  {
   "cell_type": "code",
   "execution_count": null,
   "id": "ca31126b",
   "metadata": {},
   "outputs": [],
   "source": [
    "rules for declaring variables:"
   ]
  },
  {
   "cell_type": "code",
   "execution_count": null,
   "id": "d791bbc1",
   "metadata": {},
   "outputs": [],
   "source": [
    "rule no 1: No name spaces while declaring the variable name "
   ]
  },
  {
   "cell_type": "code",
   "execution_count": 6,
   "id": "060c07f9",
   "metadata": {},
   "outputs": [
    {
     "ename": "SyntaxError",
     "evalue": "invalid syntax (3810080621.py, line 1)",
     "output_type": "error",
     "traceback": [
      "\u001b[1;36m  Cell \u001b[1;32mIn[6], line 1\u001b[1;36m\u001b[0m\n\u001b[1;33m    first name = 'muneeb'\u001b[0m\n\u001b[1;37m          ^\u001b[0m\n\u001b[1;31mSyntaxError\u001b[0m\u001b[1;31m:\u001b[0m invalid syntax\n"
     ]
    }
   ],
   "source": [
    "first name = 'muneeb'\n",
    "print (first name)"
   ]
  },
  {
   "cell_type": "code",
   "execution_count": 7,
   "id": "55222b16",
   "metadata": {},
   "outputs": [
    {
     "name": "stdout",
     "output_type": "stream",
     "text": [
      "muneeb\n"
     ]
    }
   ],
   "source": [
    "firstname = 'muneeb'\n",
    "print (firstname)"
   ]
  },
  {
   "cell_type": "code",
   "execution_count": 9,
   "id": "71c57646",
   "metadata": {},
   "outputs": [
    {
     "name": "stdout",
     "output_type": "stream",
     "text": [
      "muneeb\n"
     ]
    }
   ],
   "source": [
    "first_name = 'muneeb'\n",
    "print (first_name)"
   ]
  },
  {
   "cell_type": "code",
   "execution_count": null,
   "id": "870f80d1",
   "metadata": {},
   "outputs": [],
   "source": []
  },
  {
   "cell_type": "code",
   "execution_count": null,
   "id": "377c9b47",
   "metadata": {},
   "outputs": [],
   "source": [
    "Rule No 2: A variable name should not start with number * *"
   ]
  },
  {
   "cell_type": "code",
   "execution_count": 10,
   "id": "2f4c6cef",
   "metadata": {},
   "outputs": [
    {
     "ename": "SyntaxError",
     "evalue": "invalid decimal literal (106475538.py, line 1)",
     "output_type": "error",
     "traceback": [
      "\u001b[1;36m  Cell \u001b[1;32mIn[10], line 1\u001b[1;36m\u001b[0m\n\u001b[1;33m    1name = 'syed'\u001b[0m\n\u001b[1;37m    ^\u001b[0m\n\u001b[1;31mSyntaxError\u001b[0m\u001b[1;31m:\u001b[0m invalid decimal literal\n"
     ]
    }
   ],
   "source": [
    "1name = 'syed'\n",
    "print(1name)"
   ]
  },
  {
   "cell_type": "code",
   "execution_count": 11,
   "id": "8de6b91d",
   "metadata": {},
   "outputs": [
    {
     "name": "stdout",
     "output_type": "stream",
     "text": [
      "syed\n"
     ]
    }
   ],
   "source": [
    "name1 = 'syed'\n",
    "print(name1)"
   ]
  },
  {
   "cell_type": "code",
   "execution_count": null,
   "id": "5d9ff7cc",
   "metadata": {},
   "outputs": [],
   "source": []
  },
  {
   "cell_type": "code",
   "execution_count": null,
   "id": "e98069b9",
   "metadata": {},
   "outputs": [],
   "source": [
    "Rule no 3 a variable name should contain any special character @ # $ % & *"
   ]
  },
  {
   "cell_type": "code",
   "execution_count": 12,
   "id": "35837960",
   "metadata": {},
   "outputs": [
    {
     "ename": "SyntaxError",
     "evalue": "invalid syntax (1168639370.py, line 1)",
     "output_type": "error",
     "traceback": [
      "\u001b[1;36m  Cell \u001b[1;32mIn[12], line 1\u001b[1;36m\u001b[0m\n\u001b[1;33m    name@ = 'john'\u001b[0m\n\u001b[1;37m          ^\u001b[0m\n\u001b[1;31mSyntaxError\u001b[0m\u001b[1;31m:\u001b[0m invalid syntax\n"
     ]
    }
   ],
   "source": [
    "name@ = 'john'\n",
    "print(name@)"
   ]
  },
  {
   "cell_type": "code",
   "execution_count": null,
   "id": "88c3724d",
   "metadata": {},
   "outputs": [],
   "source": []
  },
  {
   "cell_type": "code",
   "execution_count": null,
   "id": "7e79bef3",
   "metadata": {},
   "outputs": [],
   "source": [
    "Introduction to datatypes in python"
   ]
  },
  {
   "cell_type": "code",
   "execution_count": null,
   "id": "fd5ed0ed",
   "metadata": {},
   "outputs": [],
   "source": [
    "stings------str"
   ]
  },
  {
   "cell_type": "code",
   "execution_count": null,
   "id": "739c0ee7",
   "metadata": {},
   "outputs": [],
   "source": [
    "Numbers---integers----floats----decimals(0.1,0.2)"
   ]
  },
  {
   "cell_type": "code",
   "execution_count": null,
   "id": "088455dc",
   "metadata": {},
   "outputs": [],
   "source": [
    "lists------list"
   ]
  },
  {
   "cell_type": "code",
   "execution_count": null,
   "id": "4e6849f1",
   "metadata": {},
   "outputs": [],
   "source": [
    "tuples-----tuple"
   ]
  },
  {
   "cell_type": "code",
   "execution_count": null,
   "id": "fd770eb4",
   "metadata": {},
   "outputs": [],
   "source": [
    "dictionaries----dict"
   ]
  },
  {
   "cell_type": "code",
   "execution_count": null,
   "id": "b6b6944c",
   "metadata": {},
   "outputs": [],
   "source": []
  },
  {
   "cell_type": "code",
   "execution_count": null,
   "id": "b2f83707",
   "metadata": {},
   "outputs": [],
   "source": [
    "NOTE: PYTHON IS A CASE SENSITIVE PRAGARAMMING LANGUAGE"
   ]
  },
  {
   "cell_type": "code",
   "execution_count": null,
   "id": "8a84b53b",
   "metadata": {},
   "outputs": [],
   "source": []
  },
  {
   "cell_type": "code",
   "execution_count": null,
   "id": "07da702b",
   "metadata": {},
   "outputs": [],
   "source": [
    "Clasifiaction of datatypes\n",
    "\n",
    "1. Mutable datatypes -----which we can edit/alter\n",
    "\n",
    "2. Imutable datatypes----- which we cannot able to edit/alter"
   ]
  },
  {
   "cell_type": "code",
   "execution_count": null,
   "id": "0232ad9e",
   "metadata": {},
   "outputs": [],
   "source": []
  },
  {
   "cell_type": "code",
   "execution_count": null,
   "id": "48ef20ce",
   "metadata": {},
   "outputs": [],
   "source": [
    "Introduction to string datatypes:\n",
    "    Defination: A string is nothing but a series of character declared in quotes\n",
    "        \n",
    "    Calsification: its is clasified as an imutable datatype"
   ]
  },
  {
   "cell_type": "code",
   "execution_count": null,
   "id": "68dd7fd4",
   "metadata": {},
   "outputs": [],
   "source": []
  },
  {
   "cell_type": "code",
   "execution_count": 17,
   "id": "c808ac8c",
   "metadata": {},
   "outputs": [
    {
     "ename": "SyntaxError",
     "evalue": "invalid syntax (2492931217.py, line 1)",
     "output_type": "error",
     "traceback": [
      "\u001b[1;36m  Cell \u001b[1;32mIn[17], line 1\u001b[1;36m\u001b[0m\n\u001b[1;33m    how to declare the string datatype----\u001b[0m\n\u001b[1;37m        ^\u001b[0m\n\u001b[1;31mSyntaxError\u001b[0m\u001b[1;31m:\u001b[0m invalid syntax\n"
     ]
    }
   ],
   "source": [
    "how to declare the string datatype----\n",
    "1. single quote\n",
    "2. double qoute"
   ]
  },
  {
   "cell_type": "code",
   "execution_count": 18,
   "id": "bb1a867b",
   "metadata": {},
   "outputs": [
    {
     "name": "stdout",
     "output_type": "stream",
     "text": [
      "venkatesh\n"
     ]
    }
   ],
   "source": [
    "name = 'venkatesh'\n",
    "print(name)"
   ]
  },
  {
   "cell_type": "code",
   "execution_count": 19,
   "id": "8c3aecf9",
   "metadata": {},
   "outputs": [
    {
     "name": "stdout",
     "output_type": "stream",
     "text": [
      "sara\n"
     ]
    }
   ],
   "source": [
    "name2 = \"sara\"\n",
    "print(name2)"
   ]
  },
  {
   "cell_type": "code",
   "execution_count": null,
   "id": "59fb9810",
   "metadata": {},
   "outputs": [],
   "source": []
  },
  {
   "cell_type": "code",
   "execution_count": null,
   "id": "f6a5a7ca",
   "metadata": {},
   "outputs": [],
   "source": [
    "Introduction to String Methods"
   ]
  },
  {
   "cell_type": "code",
   "execution_count": 20,
   "id": "85798118",
   "metadata": {},
   "outputs": [
    {
     "data": {
      "text/plain": [
       "str"
      ]
     },
     "execution_count": 20,
     "metadata": {},
     "output_type": "execute_result"
    }
   ],
   "source": [
    "type(name)"
   ]
  },
  {
   "cell_type": "code",
   "execution_count": 21,
   "id": "8e80a66c",
   "metadata": {},
   "outputs": [
    {
     "data": {
      "text/plain": [
       "str"
      ]
     },
     "execution_count": 21,
     "metadata": {},
     "output_type": "execute_result"
    }
   ],
   "source": [
    "type(name2)"
   ]
  },
  {
   "cell_type": "code",
   "execution_count": null,
   "id": "5fa50e53",
   "metadata": {},
   "outputs": [],
   "source": []
  },
  {
   "cell_type": "code",
   "execution_count": null,
   "id": "91cdc6cc",
   "metadata": {},
   "outputs": [],
   "source": []
  },
  {
   "cell_type": "code",
   "execution_count": null,
   "id": "96203bab",
   "metadata": {},
   "outputs": [],
   "source": []
  },
  {
   "cell_type": "code",
   "execution_count": null,
   "id": "a10da026",
   "metadata": {},
   "outputs": [],
   "source": []
  }
 ],
 "metadata": {
  "kernelspec": {
   "display_name": "Python 3 (ipykernel)",
   "language": "python",
   "name": "python3"
  },
  "language_info": {
   "codemirror_mode": {
    "name": "ipython",
    "version": 3
   },
   "file_extension": ".py",
   "mimetype": "text/x-python",
   "name": "python",
   "nbconvert_exporter": "python",
   "pygments_lexer": "ipython3",
   "version": "3.11.4"
  }
 },
 "nbformat": 4,
 "nbformat_minor": 5
}
